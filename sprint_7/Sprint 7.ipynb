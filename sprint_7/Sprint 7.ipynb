{
 "cells": [
  {
   "cell_type": "markdown",
   "id": "baa752dd",
   "metadata": {},
   "source": [
    "Nivell 1 Exercise 1\n",
    "Body Mass Index Calculator\n",
    "\n",
    "Write a function that calculates the BMI (Body Mass Index) entered by the user — that is, the person running it will need to input this data. You can find more information on how it is calculated at:\n",
    "\n",
    "→ Body Mass Index (BMI): What it is and how it's calculated.\n",
    "\n",
    "The function should classify the result into its respective categories."
   ]
  },
  {
   "cell_type": "code",
   "execution_count": 2,
   "id": "17ca981b",
   "metadata": {},
   "outputs": [
    {
     "name": "stdout",
     "output_type": "stream",
     "text": [
      "With weight 45.0 kg and height 1.4 m you have BMI 23.0 which coressponds to category Normal weight.\n"
     ]
    }
   ],
   "source": [
    "def calculate_bmi(weight, height):\n",
    "    bmi = round(weight / (height ** 2), 1)\n",
    "    return bmi\n",
    "\n",
    "def calculate_category(bmi):\n",
    "    if bmi < 18.5:\n",
    "        category = \"Underweight\"\n",
    "    elif bmi < 24.9:\n",
    "        category = \"Normal weight\"\n",
    "    elif bmi < 29.9:\n",
    "        category = \"Overweight\"\n",
    "    else:\n",
    "        category = \"Obese\"\n",
    "    return category\n",
    "\n",
    "\n",
    "def assign_bmi_and_category():\n",
    "    weight = float(input(\"Enter weight in kilograms: \"))\n",
    "    height = float(input(\"Enter height in meters, for example 1.7: \"))\n",
    "\n",
    "    if not (0 < weight < 220 and 0.5 < height < 2.5):\n",
    "        return (\"Entered weight or height is outside of a possible range.\")\n",
    "                \n",
    "    else:\n",
    "        bmi = calculate_bmi(weight, height)\n",
    "        category = calculate_category(bmi)\n",
    "        print(f\"With weight {weight} kg and height {height} m you have BMI {bmi} which coressponds to category {category}.\")\n",
    "\n",
    "assign_bmi_and_category()"
   ]
  },
  {
   "cell_type": "markdown",
   "id": "fb341115",
   "metadata": {},
   "source": [
    "Nivell 1 Exercise 2\n",
    "Temperature Converter\n",
    "\n",
    "There are several temperature units used in different contexts and regions. The most common ones are Celsius (°C), Fahrenheit (°F), and Kelvin (K). Other units also exist, such as Rankine (°Ra) and Réaumur (°Re).\n",
    "\n",
    "Select at least 2 converters, so that when a temperature is entered, the program returns at least two conversions."
   ]
  },
  {
   "cell_type": "code",
   "execution_count": 12,
   "id": "80257fdf",
   "metadata": {},
   "outputs": [
    {
     "name": "stdout",
     "output_type": "stream",
     "text": [
      "You entered: 45.0C\n",
      "Converted values\n",
      "Fahrenheit: 113.0F\n",
      "Kelvin: 318.1K\n"
     ]
    }
   ],
   "source": [
    "def convert_temperature(value, unit):\n",
    "    result = {\"input\": value, \"unit\": unit.upper()}\n",
    "\n",
    "    if unit.upper() == \"C\":\n",
    "        result[\"Fahrenheit\"] = round(value * 9/5 + 32, 1)\n",
    "        result[\"Kelvin\"] = round(value + 273.15, 1)\n",
    "\n",
    "    elif unit.upper() == \"F\":\n",
    "        celsius = round((value - 32) * 5/9, 1)\n",
    "        result[\"Celsius\"] = celsius\n",
    "        result[\"Kelvin\"] = round(celsius + 273.15, 1)\n",
    "\n",
    "    return result\n",
    "\n",
    "def run_converter():\n",
    "    unit = input(\"Enter unit: C for Celsius, F for Fahrenheit\")\n",
    "    \n",
    "    if unit.upper() != \"C\" and unit.upper() != \"F\":\n",
    "        return (f\"Entered temperature unit {unit} is outside of the convertors scope. Use 'C' for Celsius or 'F' for Fahrenheit.\")\n",
    "    else:\n",
    "        temp = float(input(\"Enter temperature:\"))\n",
    "        result = convert_temperature(temp, unit)\n",
    "\n",
    "    print(f\"You entered: {result['input']}{result['unit']}\")\n",
    "    print(\"Converted values\")\n",
    "    for key in result:\n",
    "        if key not in [\"input\", \"unit\"]:\n",
    "            print(f\"{key}: {result[key]}{key[0].upper()}\")\n",
    "\n",
    "run_converter()\n"
   ]
  },
  {
   "cell_type": "markdown",
   "id": "646ad782",
   "metadata": {},
   "source": [
    "Nivell 1 Exercise 3\n",
    "Word Counter for a Text\n",
    "Write a function that, given a text, displays how many times each word appears."
   ]
  },
  {
   "cell_type": "code",
   "execution_count": 17,
   "id": "ea230ef0",
   "metadata": {},
   "outputs": [
    {
     "name": "stdout",
     "output_type": "stream",
     "text": [
      "'78': 1\n"
     ]
    }
   ],
   "source": [
    "from collections import Counter\n",
    "import re\n",
    "\n",
    "def word_counter(text):\n",
    "    \"\"\"\n",
    "    Counts how many times a word appears in text that comes as input.\n",
    "    \"\"\"\n",
    "    words = re.findall(r'\\b\\w+\\b', text.lower())\n",
    "    word_count = Counter(words)\n",
    "    return word_count\n",
    "\n",
    "def run_word_counter():\n",
    "    text_input = input(\"Enter text: \")\n",
    "    resul_word_counter = word_counter(text_input)\n",
    "    for word, count in resul_word_counter.items():\n",
    "        print(f\"'{word}': {count}\")\n",
    "\n",
    "run_word_counter()"
   ]
  },
  {
   "cell_type": "markdown",
   "id": "8c0a731c",
   "metadata": {},
   "source": [
    "Nivell 1 Exercise 4\n",
    "\n",
    "Inverse Dictionary\n",
    "\n",
    "It turns out the client has a very old survey stored in a dictionary, but they need the results reversed — that is, with the keys and values swapped.\n",
    "\n",
    "The values and keys in the original dictionary are unique. If that's not the case, the function should print a warning message.\n",
    "\n",
    "reverse_dictionary({'a': 1, 'b': 2, 'c': 3})\n",
    "reverse_dictionary({'x': 'apple', 'y': 'banana', 'z': 'banana'})"
   ]
  },
  {
   "cell_type": "code",
   "execution_count": 47,
   "id": "5e6986f9",
   "metadata": {},
   "outputs": [
    {
     "name": "stdout",
     "output_type": "stream",
     "text": [
      "Test 1: {'1': 'a', '2': 'b', '3': 'c'}\n",
      "\n",
      "Test 2: Dictionary contains duplicates\n",
      "\n",
      "Test 3: {1: 'x', 6: 'y'}\n",
      "\n"
     ]
    }
   ],
   "source": [
    "def count_values_from_dictionary(input_dictionary):\n",
    "    \"\"\"\n",
    "    Convert all values in a dictionary to strings and count word frequency\n",
    "    \"\"\"\n",
    "    convert_values_to_str = ' '.join(str(value) for value in input_dictionary.values())\n",
    "    counts = word_counter(convert_values_to_str)\n",
    "    return counts\n",
    "\n",
    "def reverse_dictionary(input_dictionary):\n",
    "    \"\"\"\n",
    "    Reverse the dictionary if all values are unique. Otherwise, return a message about duplicates.\n",
    "    \"\"\"\n",
    "    if len(set(input_dictionary.values())) < len(input_dictionary.values()):\n",
    "        return \"Dictionary contains duplicates\"\n",
    "    else:\n",
    "        reversed_dict_result = {value: key for key, value in input_dictionary.items()}\n",
    "        return reversed_dict_result\n",
    "\n",
    "test_dict_1 = {'a': '1', 'b': '2', 'c': '3'}\n",
    "print(\"Test 1:\", reverse_dictionary(test_dict_1))  \n",
    "print()\n",
    "\n",
    "\n",
    "test_dict_2 = {'x': 'apple', 'y': 'banana', 'z': 'banana'}\n",
    "print(\"Test 2:\", reverse_dictionary(test_dict_2))  \n",
    "print()\n",
    "\n",
    "test_dict_3 = {'x': 1, 'y': 6}\n",
    "print(\"Test 3:\", reverse_dictionary(test_dict_3)) \n",
    "print()\n"
   ]
  },
  {
   "cell_type": "markdown",
   "id": "8a0cea66",
   "metadata": {},
   "source": [
    "Nivell 2 Exercise 1\n",
    "Inverse dictionary with duplicates\n",
    "\n",
    "Continuing from Exercise 4 of Level 1: the client forgot to mention a detail — it turns out that the values in the original dictionary can be duplicated or even more so, which means the swapped keys may have duplicates. In the previous exercise, you printed a warning message. Now, the values of the resulting dictionary must be stored as a list. Keep in mind that if a value is unique, it should not be stored as a list."
   ]
  },
  {
   "cell_type": "code",
   "execution_count": null,
   "id": "f7e694a7",
   "metadata": {},
   "outputs": [
    {
     "name": "stdout",
     "output_type": "stream",
     "text": [
      "Test 1: {'1': 'a', '2': 'b', '3': 'c'}\n",
      "\n",
      "Test 2: {'apple': 'x', 'banana': ['y', 'z']}\n",
      "\n",
      "Test 3: {1: ['x'], 6: ['y']}\n",
      "\n"
     ]
    }
   ],
   "source": [
    "def reverse_dictionary_duplicates_alloweed (input_dictionary):\n",
    "    \"\"\"\n",
    "    Reverse the dictionary even if values are dupliacte. Save duplicated values as list\n",
    "    \"\"\"\n",
    "    count_values = count_values_from_dictionary(input_dictionary)\n",
    "    reversed_dict = {}\n",
    "    for key, value in input_dictionary.items():\n",
    "        if count_values[value] == 1:\n",
    "            reversed_dict[value] = key\n",
    "        else:\n",
    "            if value in reversed_dict:\n",
    "                reversed_dict[value].append(key)\n",
    "            else:\n",
    "                reversed_dict[value] = [key]\n",
    "\n",
    "    return reversed_dict  \n",
    "\n",
    "\n",
    "\n",
    "test_dict_1 = {'a': '1', 'b': '2', 'c': '3'}\n",
    "print(\"Test 1:\", reverse_dictionary_duplicates_alloweed(test_dict_1))  \n",
    "print()\n",
    "\n",
    "\n",
    "test_dict_2 = {'x': 'apple', 'y': 'banana', 'z': 'banana'}\n",
    "print(\"Test 2:\", reverse_dictionary_duplicates_alloweed(test_dict_2))  \n",
    "print()\n",
    "\n",
    "\n",
    "test_dict_3 = {'x': 1, 'y': 6}\n",
    "print(\"Test 3:\", reverse_dictionary_duplicates_alloweed(test_dict_3)) \n",
    "print()"
   ]
  },
  {
   "cell_type": "markdown",
   "id": "248fd290",
   "metadata": {},
   "source": [
    "Nivell 2 Exercise 2\n",
    "Data Type Conversion\n",
    "\n",
    "The client receives a list of data and needs to generate two separate lists:\n",
    "The first list should contain all the elements that could be successfully converted to floats.\n",
    "The second list should contain all the elements that could not be converted."
   ]
  },
  {
   "cell_type": "code",
   "execution_count": 48,
   "id": "ec71cbde",
   "metadata": {},
   "outputs": [
    {
     "name": "stdout",
     "output_type": "stream",
     "text": [
      "Converted [3.14, 2.71, 1.0, 5.5, 100.0, 1.0, 2.0, 3.0, 9.9]\n",
      "Not converted ['bad', 'a', 'b', 'oops', None, 'text']\n"
     ]
    }
   ],
   "source": [
    "def conversion(data):\n",
    "    \"\"\"\n",
    "    Seperate data in converted and not converte lists\n",
    "    \"\"\"\n",
    "    converted = []\n",
    "    not_converted = []\n",
    "\n",
    "    items_to_check = list(data)\n",
    "\n",
    "    while len(items_to_check) > 0:\n",
    "        item = items_to_check.pop(0)\n",
    "\n",
    "        if isinstance(item, dict):\n",
    "            items_to_check.extend(item.keys())\n",
    "            items_to_check.extend(item.values())\n",
    "        elif isinstance(item, (list, tuple, set)):\n",
    "            items_to_check.extend(item)\n",
    "        else:\n",
    "            try:\n",
    "                converted.append(float(item))\n",
    "            except (ValueError, TypeError):\n",
    "                not_converted.append(item)\n",
    "\n",
    "    return converted, not_converted\n",
    "\n",
    "input_data = ['3.14', set(['2.71', 'bad']), {'a': '1.0', 'b': 'oops'}, ['5.5', ('9.9',)], (100, None, 'text', 1, 2, 3)]\n",
    "\n",
    "converted, not_converted = conversion(input_data)\n",
    "print(\"Converted\", converted)\n",
    "print(f\"Not converted\", not_converted)\n"
   ]
  },
  {
   "cell_type": "markdown",
   "id": "4f584cac",
   "metadata": {},
   "source": [
    "\n",
    "Nivell 3 Exercise 1\n",
    "Word counter and organizer from a text.\n",
    "\n",
    "The client was satisfied with the word counter, but now they want to read TXT files and calculate the frequency of each word, organized according to typical dictionary entries by the letter they start with. That is, the keys should go from A to Z, and within each letter, the words should also be sorted from A to Z.\n",
    "For example, for the file \"tu_me_quieres_blanca.txt\", the expected output would be:"
   ]
  },
  {
   "cell_type": "code",
   "execution_count": 52,
   "id": "67095524",
   "metadata": {},
   "outputs": [
    {
     "name": "stdout",
     "output_type": "stream",
     "text": [
      "{'a': {'a': 3, 'agua': 1, 'al': 2, 'alba': 4, 'alcobas': 1, 'alimenta': 1, 'alma': 1, 'amarga': 1, 'azucena': 1}, 'b': {'baco': 1, 'banquete': 1, 'bebe': 1, 'blanca': 3, 'boca': 1, 'bosques': 1, 'buen': 1}, 'c': {'cabañas': 1, 'carnes': 2, 'casta': 3, 'cerrada': 1, 'con': 4, 'conservas': 1, 'copas': 1, 'corola': 1, 'corriste': 1, 'cuando': 2, 'cubierto': 1, 'cuerpo': 1, 'cuáles': 1}, 'd': {'de': 8, 'dejaste': 1, 'del': 1, 'diga': 1, 'dios': 2, 'duerme': 1}, 'e': {'el': 4, 'ellas': 1, 'en': 4, 'engaño': 1, 'enredada': 1, 'entonces': 1, 'escarcha': 1, 'espumas': 1, 'esqueleto': 1, 'estrago': 1}, 'f': {'festejando': 1, 'filtrado': 1, 'frutos': 1}, 'h': {'habla': 1, 'hacia': 1, 'haya': 1, 'hayas': 1, 'hermana': 1, 'hombre': 1, 'hubiste': 1, 'huye': 1}, 'i': {'intacto': 1}, 'j': {'jardines': 1}, 'l': {'la': 3, 'labios': 1, 'las': 7, 'lo': 2, 'los': 4, 'luna': 1, 'lévate': 1, 'límpiate': 1}, 'm': {'mano': 1, 'manos': 1, 'margarita': 1, 'me': 10, 'mi': 1, 'mieles': 1, 'milagros': 1, 'mojada': 1, 'montaña': 1, 'morados': 1}, 'n': {'negros': 1, 'ni': 2, 'no': 1, 'nácar': 1, 'nívea': 2}, 'p': {'perdone': 2, 'perfume': 1, 'por': 2, 'pretendes': 3, 'preténdeme': 3, 'puesto': 1, 'pájaros': 1, 'pámpanos': 1}, 'q': {'que': 6, 'quedó': 1, 'quieres': 6}, 'r': {'rayo': 1, 'raíz': 1, 'renueva': 1, 'rocas': 1, 'rojo': 1}, 's': {'salitre': 1, 'se': 2, 'sea': 1, 'sean': 1, 'sobre': 2, 'sé': 1}, 't': {'te': 3, 'tejidos': 1, 'tenue': 1, 'tierra': 1, 'toca': 1, 'todas': 2, 'todavía': 1, 'tornadas': 1, 'tú': 8}, 'u': {'un': 1, 'una': 1}, 'v': {'vestido': 1, 'vete': 1, 'vive': 1}, 'y': {'y': 5}}\n"
     ]
    }
   ],
   "source": [
    "def prepare_txt_for_dictionary(txt_file_path):\n",
    "    \"\"\"\n",
    "    Transforms txt file to sorted list of words and their frequency count\n",
    "    \"\"\"\n",
    "    with open(txt_file_path, \"r\", encoding=\"utf-8\") as f:\n",
    "        text = f.read()\n",
    "    counts = word_counter(text)\n",
    "    sorted_dict = {word: count for word, count in sorted(counts.items())}\n",
    "    return sorted_dict\n",
    "\n",
    "\n",
    "def dictionary(sorted_dict):\n",
    "    \"\"\"\n",
    "    Creates a  dictionary where words are grouped by their starting letter with their frequency count\n",
    "    \"\"\"\n",
    "    result = {}\n",
    "    for word, count in sorted_dict.items():\n",
    "        first_letter = word[0]\n",
    "        if first_letter not in result.keys():\n",
    "             result [first_letter] = {word: count}\n",
    "        else:\n",
    "            result[first_letter][word]= count \n",
    "    return result\n",
    "\n",
    "\n",
    "\n",
    "txt_file_path = r\"C:\\Users\\natab\\Downloads\\tu_me_quieres_blanca.txt\"\n",
    "\n",
    "\n",
    "sorted_dict = prepare_txt_for_dictionary(txt_file_path)\n",
    "grouped_dict = dictionary(sorted_dict)\n",
    "print(grouped_dict)"
   ]
  },
  {
   "cell_type": "markdown",
   "id": "7ae34c1a",
   "metadata": {},
   "source": []
  }
 ],
 "metadata": {
  "kernelspec": {
   "display_name": "Python 3",
   "language": "python",
   "name": "python3"
  },
  "language_info": {
   "codemirror_mode": {
    "name": "ipython",
    "version": 3
   },
   "file_extension": ".py",
   "mimetype": "text/x-python",
   "name": "python",
   "nbconvert_exporter": "python",
   "pygments_lexer": "ipython3",
   "version": "3.12.10"
  }
 },
 "nbformat": 4,
 "nbformat_minor": 5
}
